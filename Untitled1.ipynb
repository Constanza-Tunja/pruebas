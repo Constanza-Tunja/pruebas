{
  "nbformat": 4,
  "nbformat_minor": 0,
  "metadata": {
    "colab": {
      "name": "Untitled1.ipynb",
      "provenance": [],
      "collapsed_sections": [],
      "authorship_tag": "ABX9TyNeJMGUhcYlx7Vlaw92SPyF",
      "include_colab_link": true
    },
    "kernelspec": {
      "name": "python3",
      "display_name": "Python 3"
    },
    "language_info": {
      "name": "python"
    }
  },
  "cells": [
    {
      "cell_type": "markdown",
      "metadata": {
        "id": "view-in-github",
        "colab_type": "text"
      },
      "source": [
        "<a href=\"https://colab.research.google.com/github/Constanza-Tunja/pruebas/blob/main/Untitled1.ipynb\" target=\"_parent\"><img src=\"https://colab.research.google.com/assets/colab-badge.svg\" alt=\"Open In Colab\"/></a>"
      ]
    },
    {
      "cell_type": "code",
      "metadata": {
        "id": "GgVxOJC3YsFy",
        "colab": {
          "base_uri": "https://localhost:8080/"
        },
        "outputId": "aee9f58a-6b62-4733-e334-411e64243e4c"
      },
      "source": [
        "print('hola')"
      ],
      "execution_count": 2,
      "outputs": [
        {
          "output_type": "stream",
          "text": [
            "hola\n"
          ],
          "name": "stdout"
        }
      ]
    },
    {
      "cell_type": "code",
      "metadata": {
        "colab": {
          "base_uri": "https://localhost:8080/"
        },
        "id": "LMwF_cePbMQn",
        "outputId": "cd7a2ae1-c7ad-4f2e-dfa0-ab80b162d47c"
      },
      "source": [
        "print('no actualizó en drive')"
      ],
      "execution_count": 3,
      "outputs": [
        {
          "output_type": "stream",
          "text": [
            "no actualizó en drive\n"
          ],
          "name": "stdout"
        }
      ]
    }
  ]
}